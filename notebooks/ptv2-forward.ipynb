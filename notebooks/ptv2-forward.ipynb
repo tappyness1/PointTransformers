{
 "cells": [
  {
   "cell_type": "code",
   "execution_count": 1,
   "metadata": {},
   "outputs": [],
   "source": [
    "%load_ext autoreload\n",
    "%autoreload 2\n",
    "import sys\n",
    "sys.path.append(\"..\")"
   ]
  },
  {
   "cell_type": "code",
   "execution_count": 2,
   "metadata": {},
   "outputs": [],
   "source": [
    "from src.model.PTv2.model import PTV2Classifier, PTV2Segmentation"
   ]
  },
  {
   "cell_type": "code",
   "execution_count": 3,
   "metadata": {},
   "outputs": [],
   "source": [
    "import numpy as np\n",
    "import torch\n",
    "\n",
    "np.random.seed(42)\n",
    "torch.manual_seed(42)    \n",
    "\n",
    "X = np.random.rand(5, 1000, 6).astype('float32')\n",
    "device = torch.device('cuda' if torch.cuda.is_available() else 'cpu')\n",
    "X = torch.tensor(X).to(device)"
   ]
  },
  {
   "cell_type": "code",
   "execution_count": 29,
   "metadata": {},
   "outputs": [
    {
     "data": {
      "text/plain": [
       "tensor([[-0.7602, -0.0893,  0.5157, -0.1374, -0.1244,  0.0653, -0.3963,  0.6577,\n",
       "          0.1701,  0.0781],\n",
       "        [-0.5435, -0.1397,  0.3732, -0.2878, -0.1223,  0.0440, -0.1621,  0.3009,\n",
       "          0.2036,  0.2441],\n",
       "        [-0.6660,  0.0677,  0.4515, -0.5343, -0.3013,  0.2056,  0.0678,  0.5297,\n",
       "          0.1629,  0.4400],\n",
       "        [-0.7183, -0.0665,  0.3602, -0.2935,  0.0835,  0.1252, -0.0467,  0.6617,\n",
       "          0.3911,  0.1880],\n",
       "        [-0.4007, -0.2332,  0.5879, -0.2743, -0.2263,  0.2247, -0.0711,  0.4521,\n",
       "          0.2663,  0.2037]], grad_fn=<AddmmBackward0>)"
      ]
     },
     "execution_count": 29,
     "metadata": {},
     "output_type": "execute_result"
    }
   ],
   "source": [
    "model = PTV2Classifier(10, 6).to(device)\n",
    "model.forward(X)"
   ]
  },
  {
   "cell_type": "code",
   "execution_count": 6,
   "metadata": {},
   "outputs": [
    {
     "name": "stdout",
     "output_type": "stream",
     "text": [
      "torch.Size([5, 1000, 10])\n"
     ]
    }
   ],
   "source": [
    "model = PTV2Segmentation(10, 6).to(device)\n",
    "out_xyz, out_logits = model.forward(X)\n",
    "print (out_logits.shape)"
   ]
  }
 ],
 "metadata": {
  "kernelspec": {
   "display_name": "pytorch-cpu",
   "language": "python",
   "name": "python3"
  },
  "language_info": {
   "codemirror_mode": {
    "name": "ipython",
    "version": 3
   },
   "file_extension": ".py",
   "mimetype": "text/x-python",
   "name": "python",
   "nbconvert_exporter": "python",
   "pygments_lexer": "ipython3",
   "version": "3.8.18"
  }
 },
 "nbformat": 4,
 "nbformat_minor": 2
}
