{
 "cells": [
  {
   "cell_type": "code",
   "execution_count": 1,
   "metadata": {},
   "outputs": [],
   "source": [
    "%load_ext autoreload\n",
    "%autoreload 2\n",
    "import sys\n",
    "sys.path.append(\"..\")\n",
    "from src.model.PTv1.point_transformer_utils import PointTransformerBlock, TransitionDownBlock\n",
    "from src.model.PTv1.model import PointTransformerClassifier"
   ]
  },
  {
   "cell_type": "code",
   "execution_count": 2,
   "metadata": {},
   "outputs": [],
   "source": [
    "import numpy as np\n",
    "import torch\n",
    "\n",
    "np.random.seed(42)\n",
    "torch.manual_seed(42)    \n",
    "\n",
    "X = np.random.rand(5, 1000, 6).astype('float32')\n",
    "device = torch.device('cuda' if torch.cuda.is_available() else 'cpu')\n",
    "X = torch.tensor(X).to(device)"
   ]
  },
  {
   "cell_type": "code",
   "execution_count": 3,
   "metadata": {},
   "outputs": [
    {
     "name": "stdout",
     "output_type": "stream",
     "text": [
      "torch.Size([5, 1000, 3])\n",
      "torch.Size([5, 1000, 6])\n"
     ]
    }
   ],
   "source": [
    "pt_block = PointTransformerBlock(in_dim = 6, out_dim = 32)\n",
    "pt_block.to(device)\n",
    "out_xyz, out_features = pt_block(X[:,:, :3], X)\n",
    "print (out_xyz.shape)\n",
    "print (out_features.shape)"
   ]
  },
  {
   "cell_type": "code",
   "execution_count": 4,
   "metadata": {},
   "outputs": [],
   "source": [
    "td_block = TransitionDownBlock(npoints = 1000// 4, in_dim = 6, out_dim = 64)\n",
    "transition_xyz, transition_features = td_block(out_xyz, out_features)"
   ]
  },
  {
   "cell_type": "code",
   "execution_count": 5,
   "metadata": {},
   "outputs": [
    {
     "name": "stdout",
     "output_type": "stream",
     "text": [
      "torch.Size([5, 250, 3])\n",
      "torch.Size([5, 250, 64])\n"
     ]
    }
   ],
   "source": [
    "ptb_1 = PointTransformerBlock(in_dim = 64, out_dim = 64)\n",
    "out_xyz, out_features = ptb_1(transition_xyz, transition_features)\n",
    "print (out_xyz.shape)\n",
    "print (out_features.shape)"
   ]
  },
  {
   "cell_type": "code",
   "execution_count": 10,
   "metadata": {},
   "outputs": [
    {
     "name": "stdout",
     "output_type": "stream",
     "text": [
      "3\n"
     ]
    }
   ],
   "source": [
    "model = PointTransformerClassifier(npoints = 1000, n_classes = 10)"
   ]
  },
  {
   "cell_type": "code",
   "execution_count": 13,
   "metadata": {},
   "outputs": [
    {
     "data": {
      "text/plain": [
       "torch.Size([5, 10])"
      ]
     },
     "execution_count": 13,
     "metadata": {},
     "output_type": "execute_result"
    }
   ],
   "source": [
    "model(X).shape"
   ]
  }
 ],
 "metadata": {
  "kernelspec": {
   "display_name": "pytorch-cpu",
   "language": "python",
   "name": "python3"
  },
  "language_info": {
   "codemirror_mode": {
    "name": "ipython",
    "version": 3
   },
   "file_extension": ".py",
   "mimetype": "text/x-python",
   "name": "python",
   "nbconvert_exporter": "python",
   "pygments_lexer": "ipython3",
   "version": "3.8.18"
  }
 },
 "nbformat": 4,
 "nbformat_minor": 2
}
